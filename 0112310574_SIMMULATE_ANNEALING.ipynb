{
 "cells": [
  {
   "cell_type": "code",
   "execution_count": 10,
   "metadata": {},
   "outputs": [
    {
     "name": "stdout",
     "output_type": "stream",
     "text": [
      "Full route: 1 -> 2 -> 5 -> 3 -> 4 -> 1\n",
      "Total distance: 15.16227766016838\n"
     ]
    }
   ],
   "source": [
    "import random\n",
    "import math\n",
    "\n",
    "locations = [\n",
    "    (0, 0),  \n",
    "    (1, 3),  \n",
    "    (2, 0), \n",
    "    (1, 0), \n",
    "    (6, 3)  \n",
    "]\n",
    "\n",
    "def distance(p1, p2):\n",
    "    return math.hypot(p1[0] - p2[0], p1[1] - p2[1])\n",
    "\n",
    "def total_distance(route):\n",
    "    dist = distance(locations[0], locations[route[0]])  \n",
    "    for i in range(len(route) - 1):\n",
    "        dist += distance(locations[route[i]], locations[route[i + 1]])\n",
    "    dist += distance(locations[route[-1]], locations[0]) \n",
    "    return dist\n",
    "\n",
    "def get_random_neighbor(route):\n",
    "    a, b = random.sample(range(len(route)), 2)\n",
    "    new_route = list(route)\n",
    "    new_route[a], new_route[b] = new_route[b], new_route[a]\n",
    "    return new_route\n",
    "\n",
    "def simulated_annealing_tsp(initial_temp=1000, cooling_rate=0.995, max_steps=10000):\n",
    "    current = list(range(1, len(locations)))\n",
    "\n",
    "    random.shuffle(current)\n",
    "    current_cost = total_distance(current)\n",
    "    temp = initial_temp\n",
    "\n",
    "    for step in range(max_steps):\n",
    "        if current_cost == 0:\n",
    "            break\n",
    "\n",
    "        neighbor = get_random_neighbor(current)\n",
    "        neighbor_cost = total_distance(neighbor)\n",
    "\n",
    "        delta_e = neighbor_cost - current_cost\n",
    "\n",
    "        if delta_e < 0 or random.random() < math.exp(-delta_e / temp):\n",
    "            current = neighbor\n",
    "            current_cost = neighbor_cost\n",
    "\n",
    "        temp *= cooling_rate\n",
    "\n",
    "    return current, current_cost\n",
    "\n",
    "\n",
    "\n",
    "best_route, best_cost = simulated_annealing_tsp()\n",
    "\n",
    "route = [i + 1 for i in best_route]\n",
    "full_route = [1] + route + [1]\n",
    "\n",
    "\n",
    "print(\"Full route:\", ' -> '.join(map(str, full_route)))\n",
    "print(\"Total distance:\", best_cost)"
   ]
  }
 ],
 "metadata": {
  "kernelspec": {
   "display_name": "env",
   "language": "python",
   "name": "python3"
  },
  "language_info": {
   "codemirror_mode": {
    "name": "ipython",
    "version": 3
   },
   "file_extension": ".py",
   "mimetype": "text/x-python",
   "name": "python",
   "nbconvert_exporter": "python",
   "pygments_lexer": "ipython3",
   "version": "3.10.11"
  }
 },
 "nbformat": 4,
 "nbformat_minor": 2
}

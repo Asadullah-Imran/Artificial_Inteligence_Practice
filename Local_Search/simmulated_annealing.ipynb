{
 "cells": [
  {
   "cell_type": "code",
   "execution_count": 29,
   "metadata": {},
   "outputs": [
    {
     "name": "stdout",
     "output_type": "stream",
     "text": [
      "Final Board:\n",
      " .  .  Q  .  .  .  .  . \n",
      " .  .  .  .  Q  .  .  . \n",
      " .  Q  .  .  .  .  .  . \n",
      " .  .  .  .  .  .  .  Q \n",
      " Q  .  .  .  .  .  .  . \n",
      " .  .  .  .  .  .  Q  . \n",
      " .  .  .  Q  .  .  .  . \n",
      " .  .  .  .  .  Q  .  . \n",
      "\n",
      "Heuristic: 0\n"
     ]
    }
   ],
   "source": [
    "import random\n",
    "import math\n",
    "\n",
    "def generate_board(n):\n",
    "    return [random.randint(0, n - 1) for _ in range(n)]\n",
    "\n",
    "def compute_heuristic(board):\n",
    "    h = 0\n",
    "    n = len(board)\n",
    "    for i in range(n):\n",
    "        for j in range(i + 1, n):\n",
    "            if board[i] == board[j] or abs(board[i] - board[j]) == abs(i - j):\n",
    "                h += 1\n",
    "    return h\n",
    "\n",
    "def get_random_neighbor(board):\n",
    "    n = len(board)\n",
    "    new_board = list(board)\n",
    "    col = random.randint(0, n - 1)\n",
    "    row = random.randint(0, n - 1)\n",
    "    while new_board[col] == row:\n",
    "        row = random.randint(0, n - 1)\n",
    "    new_board[col] = row\n",
    "    return new_board\n",
    "\n",
    "def simulated_annealing(n, max_steps=100000, initial_temp=100, cooling_rate=0.99):\n",
    "    current = generate_board(n)\n",
    "    current_h = compute_heuristic(current)\n",
    "    temp = initial_temp\n",
    "\n",
    "    for step in range(max_steps):\n",
    "        if current_h == 0:\n",
    "            break\n",
    "\n",
    "        neighbor = get_random_neighbor(current)\n",
    "        neighbor_h = compute_heuristic(neighbor)\n",
    "\n",
    "        delta_e = neighbor_h - current_h\n",
    "\n",
    "        if delta_e < 0 or random.random() < math.exp(-delta_e / temp):\n",
    "            current = neighbor\n",
    "            current_h = neighbor_h\n",
    "\n",
    "        temp *= cooling_rate  # Gradually cool down\n",
    "\n",
    "    return current, current_h\n",
    "\n",
    "def print_board(board):\n",
    "    n = len(board)\n",
    "    for row in range(n):\n",
    "        line = \"\"\n",
    "        for col in range(n):\n",
    "            if board[col] == row:\n",
    "                line += \" Q \"\n",
    "            else:\n",
    "                line += \" . \"\n",
    "        print(line)\n",
    "    print()\n",
    "\n",
    "# Run simulated annealing\n",
    "solution, heuristic = simulated_annealing(8)\n",
    "print(\"Final Board:\")\n",
    "print_board(solution)\n",
    "print(\"Heuristic:\", heuristic)\n"
   ]
  }
 ],
 "metadata": {
  "kernelspec": {
   "display_name": "env",
   "language": "python",
   "name": "python3"
  },
  "language_info": {
   "codemirror_mode": {
    "name": "ipython",
    "version": 3
   },
   "file_extension": ".py",
   "mimetype": "text/x-python",
   "name": "python",
   "nbconvert_exporter": "python",
   "pygments_lexer": "ipython3",
   "version": "3.10.11"
  }
 },
 "nbformat": 4,
 "nbformat_minor": 2
}

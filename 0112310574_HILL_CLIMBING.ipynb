{
 "cells": [
  {
   "cell_type": "code",
   "execution_count": 104,
   "metadata": {},
   "outputs": [
    {
     "name": "stdout",
     "output_type": "stream",
     "text": [
      "Full route: 1 -> 4 -> 3 -> 5 -> 2 -> 1\n",
      "Total distance: 15.16227766016838\n"
     ]
    }
   ],
   "source": [
    "import random\n",
    "import math\n",
    "\n",
    "\n",
    "locations = [\n",
    "    (0, 0),  \n",
    "    (1, 3),  \n",
    "    (2, 0), \n",
    "    (1, 0), \n",
    "    (6, 3)  \n",
    "]\n",
    "\n",
    "def distance(p1, p2):\n",
    "    return math.hypot(p1[0] - p2[0], p1[1] - p2[1])\n",
    "\n",
    "def total_distance(route):\n",
    "    dist = distance(locations[0], locations[route[0]])  \n",
    "    for i in range(len(route) - 1):\n",
    "        dist += distance(locations[route[i]], locations[route[i + 1]])\n",
    "    dist += distance(locations[route[-1]], locations[0])  \n",
    "    return dist\n",
    "\n",
    "def get_neighbors(route):\n",
    "    neighbors = []\n",
    "    n = len(route)\n",
    "    for i in range(n):\n",
    "        for j in range(i + 1, n):\n",
    "            new_route = list(route)\n",
    "            new_route[i], new_route[j] = new_route[j], new_route[i]\n",
    "            neighbors.append(new_route)\n",
    "    return neighbors\n",
    "\n",
    "def hill_climbing_tsp():\n",
    "    current = list(range(1, len(locations)))\n",
    "\n",
    "    random.shuffle(current)\n",
    "    current_cost = total_distance(current)\n",
    "\n",
    "    while True:\n",
    "        neighbors = get_neighbors(current)\n",
    "        best = current\n",
    "        best_cost = current_cost\n",
    "\n",
    "        for neighbor in neighbors:\n",
    "            cost = total_distance(neighbor)\n",
    "            if cost < best_cost:\n",
    "                best = neighbor\n",
    "                best_cost = cost\n",
    "\n",
    "        if best_cost == current_cost:\n",
    "            break\n",
    "        else:\n",
    "            current = best\n",
    "            current_cost = best_cost\n",
    "\n",
    "    return current, current_cost\n",
    "\n",
    "# Run it\n",
    "best_route, best_cost = hill_climbing_tsp()\n",
    "\n",
    "\n",
    "route = [i + 1 for i in best_route]\n",
    "full_route = [1] + route + [1]\n",
    "\n",
    "\n",
    "print(\"Full route:\", ' -> '.join(map(str, full_route)))\n",
    "print(\"Total distance:\", best_cost)\n",
    "\n",
    "\n"
   ]
  }
 ],
 "metadata": {
  "kernelspec": {
   "display_name": "env",
   "language": "python",
   "name": "python3"
  },
  "language_info": {
   "codemirror_mode": {
    "name": "ipython",
    "version": 3
   },
   "file_extension": ".py",
   "mimetype": "text/x-python",
   "name": "python",
   "nbconvert_exporter": "python",
   "pygments_lexer": "ipython3",
   "version": "3.10.11"
  }
 },
 "nbformat": 4,
 "nbformat_minor": 2
}
